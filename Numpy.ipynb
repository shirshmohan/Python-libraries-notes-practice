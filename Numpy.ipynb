{
 "cells": [
  {
   "cell_type": "code",
   "execution_count": 94,
   "id": "c9cc699b-2e10-40dc-a290-851bb773a4e8",
   "metadata": {},
   "outputs": [],
   "source": [
    "import numpy as np\n",
    "import pandas as pd"
   ]
  },
  {
   "cell_type": "markdown",
   "id": "2fbd8505-83e9-4ee7-b6b7-a535522881e0",
   "metadata": {},
   "source": [
    "## Datatypes && Attributes"
   ]
  },
  {
   "cell_type": "code",
   "execution_count": 95,
   "id": "854bd31c-0cc8-483f-a98c-b853923ede44",
   "metadata": {},
   "outputs": [
    {
     "data": {
      "text/plain": [
       "array([1, 2, 3])"
      ]
     },
     "execution_count": 95,
     "metadata": {},
     "output_type": "execute_result"
    }
   ],
   "source": [
    "#Numpy's main data type is ndarray\n",
    "al = np.array([1,2,3])\n",
    "al"
   ]
  },
  {
   "cell_type": "code",
   "execution_count": 96,
   "id": "728025c4-dde5-4b94-9a96-6e645cdff674",
   "metadata": {},
   "outputs": [
    {
     "data": {
      "text/plain": [
       "numpy.ndarray"
      ]
     },
     "execution_count": 96,
     "metadata": {},
     "output_type": "execute_result"
    }
   ],
   "source": [
    "type(al)"
   ]
  },
  {
   "cell_type": "code",
   "execution_count": 97,
   "id": "f3ed10ae-2ee8-4472-b9ae-53ee45c780b1",
   "metadata": {},
   "outputs": [
    {
     "data": {
      "text/plain": [
       "array([[1., 1., 1.],\n",
       "       [1., 1., 1.]])"
      ]
     },
     "execution_count": 97,
     "metadata": {},
     "output_type": "execute_result"
    }
   ],
   "source": [
    "ones = np.ones((2,3))\n",
    "ones"
   ]
  },
  {
   "cell_type": "code",
   "execution_count": 98,
   "id": "d3c5dc17-04e5-488b-a0d0-0e5e3596d5eb",
   "metadata": {},
   "outputs": [
    {
     "data": {
      "text/plain": [
       "dtype('float64')"
      ]
     },
     "execution_count": 98,
     "metadata": {},
     "output_type": "execute_result"
    }
   ],
   "source": [
    "ones.dtype"
   ]
  },
  {
   "cell_type": "code",
   "execution_count": 99,
   "id": "2c392a06-b92b-479a-b09e-152b3c55c75c",
   "metadata": {},
   "outputs": [
    {
     "data": {
      "text/plain": [
       "(2, 3)"
      ]
     },
     "execution_count": 99,
     "metadata": {},
     "output_type": "execute_result"
    }
   ],
   "source": [
    "ones.shape"
   ]
  },
  {
   "cell_type": "code",
   "execution_count": 100,
   "id": "db3f09b0-0bda-4f19-8fdd-1b5ff78dfc32",
   "metadata": {},
   "outputs": [
    {
     "data": {
      "text/plain": [
       "numpy.ndarray"
      ]
     },
     "execution_count": 100,
     "metadata": {},
     "output_type": "execute_result"
    }
   ],
   "source": [
    "type(ones)"
   ]
  },
  {
   "cell_type": "code",
   "execution_count": 101,
   "id": "f3bbebdf-b425-4790-92b6-e345f34c4f10",
   "metadata": {},
   "outputs": [
    {
     "data": {
      "text/plain": [
       "array([[7, 8, 1, 5],\n",
       "       [9, 8, 9, 4],\n",
       "       [3, 0, 3, 5],\n",
       "       [0, 2, 3, 8]])"
      ]
     },
     "execution_count": 101,
     "metadata": {},
     "output_type": "execute_result"
    }
   ],
   "source": [
    "random_array = np.random.randint(10,size = (4,4))\n",
    "random_array"
   ]
  },
  {
   "cell_type": "code",
   "execution_count": 102,
   "id": "52121e5e-c492-4034-a6b2-83e4da37c946",
   "metadata": {},
   "outputs": [
    {
     "data": {
      "text/plain": [
       "array([0, 1, 2, 3, 4, 5, 7, 8, 9])"
      ]
     },
     "execution_count": 102,
     "metadata": {},
     "output_type": "execute_result"
    }
   ],
   "source": [
    "np.unique(random_array)"
   ]
  },
  {
   "cell_type": "markdown",
   "id": "41ba880c-2ba8-4f5c-8027-f2e961648bf7",
   "metadata": {},
   "source": [
    "## 4 Manipulting andcomparing arrays"
   ]
  },
  {
   "cell_type": "markdown",
   "id": "307a510f-69cc-41bf-94b8-e5f3394c3c95",
   "metadata": {},
   "source": [
    "al\n",
    "ones"
   ]
  },
  {
   "cell_type": "code",
   "execution_count": 103,
   "id": "102369d8-f6a8-4443-b072-f507d9d25f34",
   "metadata": {},
   "outputs": [
    {
     "data": {
      "text/plain": [
       "array([[1., 2., 3.],\n",
       "       [1., 2., 3.]])"
      ]
     },
     "execution_count": 103,
     "metadata": {},
     "output_type": "execute_result"
    }
   ],
   "source": [
    "al*ones"
   ]
  },
  {
   "cell_type": "code",
   "execution_count": 104,
   "id": "8bc873b0-b538-42a9-8aed-c1ddb1169f62",
   "metadata": {},
   "outputs": [
    {
     "data": {
      "text/plain": [
       "array([1, 4, 9])"
      ]
     },
     "execution_count": 104,
     "metadata": {},
     "output_type": "execute_result"
    }
   ],
   "source": [
    "al ** 2"
   ]
  },
  {
   "cell_type": "markdown",
   "id": "65810996-2a82-4349-b4a2-041399fa662b",
   "metadata": {},
   "source": [
    "## aggregation"
   ]
  },
  {
   "cell_type": "code",
   "execution_count": 105,
   "id": "efa2f200-c556-4215-ab53-ba976e9f2284",
   "metadata": {},
   "outputs": [
    {
     "data": {
      "text/plain": [
       "6"
      ]
     },
     "execution_count": 105,
     "metadata": {},
     "output_type": "execute_result"
    }
   ],
   "source": [
    "sum(al)"
   ]
  },
  {
   "cell_type": "code",
   "execution_count": 106,
   "id": "4f382525-6120-40a1-a60f-440e3304919b",
   "metadata": {},
   "outputs": [
    {
     "data": {
      "text/plain": [
       "10000"
      ]
     },
     "execution_count": 106,
     "metadata": {},
     "output_type": "execute_result"
    }
   ],
   "source": [
    "massive_array = np.random.random(10000)\n",
    "massive_array.size"
   ]
  },
  {
   "cell_type": "code",
   "execution_count": 107,
   "id": "8748bd8c-d367-41fb-ac49-12f41d9d4eeb",
   "metadata": {},
   "outputs": [
    {
     "data": {
      "text/plain": [
       "array([0.80091075, 0.52047748, 0.67887953, 0.72063265, 0.58201979,\n",
       "       0.53737323, 0.75861562, 0.10590761, 0.47360042, 0.18633234,\n",
       "       0.73691818, 0.21655035, 0.13521817, 0.32414101, 0.14967487,\n",
       "       0.22232139, 0.38648898, 0.90259848, 0.44994999, 0.61306346,\n",
       "       0.90234858, 0.09928035, 0.96980907, 0.65314004, 0.17090959,\n",
       "       0.35815217, 0.75068614, 0.60783067, 0.32504723, 0.03842543,\n",
       "       0.63427406, 0.95894927, 0.65279032, 0.63505887, 0.99529957,\n",
       "       0.58185033, 0.41436859, 0.4746975 , 0.6235101 , 0.33800761,\n",
       "       0.67475232, 0.31720174, 0.77834548, 0.94957105, 0.66252687,\n",
       "       0.01357164, 0.6228461 , 0.67365963, 0.971945  , 0.87819347,\n",
       "       0.50962438, 0.05571469, 0.45115921, 0.01998767, 0.44171092,\n",
       "       0.97958673, 0.35944446, 0.48089353, 0.68866118, 0.88047589,\n",
       "       0.91823547, 0.21682214, 0.56518887, 0.86510256, 0.50896896,\n",
       "       0.91672295, 0.92115761, 0.08311249, 0.27771856, 0.0093567 ,\n",
       "       0.84234208, 0.64717414, 0.84138612, 0.26473016, 0.39782075,\n",
       "       0.55282148, 0.16494046, 0.36980809, 0.14644176, 0.56961841,\n",
       "       0.70373728, 0.28847644, 0.43328806, 0.75610669, 0.39609828,\n",
       "       0.89603839, 0.63892108, 0.89155444, 0.68005557, 0.44919774,\n",
       "       0.97857093, 0.11620191, 0.7670237 , 0.41182014, 0.67543908,\n",
       "       0.24979628, 0.31321833, 0.96541622, 0.58846509, 0.65966841])"
      ]
     },
     "execution_count": 107,
     "metadata": {},
     "output_type": "execute_result"
    }
   ],
   "source": [
    "massive_array[:100]"
   ]
  },
  {
   "cell_type": "code",
   "execution_count": 132,
   "id": "e8d33c2e-0616-4a08-ad4c-b8aa87b66f62",
   "metadata": {},
   "outputs": [
    {
     "name": "stdout",
     "output_type": "stream",
     "text": [
      "1.7 ms ± 164 μs per loop (mean ± std. dev. of 7 runs, 100 loops each)\n",
      "11.6 μs ± 221 ns per loop (mean ± std. dev. of 7 runs, 100,000 loops each)\n"
     ]
    }
   ],
   "source": [
    "%timeit sum(massive_array)\n",
    "%timeit np.sum(massive_array)\n"
   ]
  },
  {
   "cell_type": "code",
   "execution_count": 133,
   "id": "690f3655-edfc-493b-be74-34bace446eda",
   "metadata": {},
   "outputs": [],
   "source": [
    "# Use Python's methods (sum()) on Python datatype and using Numpy datatypes use np.sum() "
   ]
  },
  {
   "cell_type": "code",
   "execution_count": 134,
   "id": "86d9d2bf-3ef7-43ce-857a-6a6251a40cd6",
   "metadata": {},
   "outputs": [],
   "source": [
    "import matplotlib as plt"
   ]
  },
  {
   "cell_type": "code",
   "execution_count": 135,
   "id": "410a2d51-41f7-442c-bb61-1a0a2b952e1e",
   "metadata": {},
   "outputs": [],
   "source": [
    "high_var = np.array([200,300,500,800,1000,1200])\n",
    "low_var = np.array([1,2,3,4,5,6,7,8])"
   ]
  },
  {
   "cell_type": "code",
   "execution_count": 136,
   "id": "d98d03e1-0a84-4746-a9b5-78ac02aa8373",
   "metadata": {},
   "outputs": [
    {
     "data": {
      "text/plain": [
       "(363.62373715452384, 2.29128784747792)"
      ]
     },
     "execution_count": 136,
     "metadata": {},
     "output_type": "execute_result"
    }
   ],
   "source": [
    "np.std(high_var),np.std(low_var)"
   ]
  },
  {
   "cell_type": "code",
   "execution_count": 137,
   "id": "7411bbee-db49-42ae-8f5d-76cbbf9efa8b",
   "metadata": {},
   "outputs": [
    {
     "data": {
      "text/plain": [
       "(363.62373715452384, 2.29128784747792)"
      ]
     },
     "execution_count": 137,
     "metadata": {},
     "output_type": "execute_result"
    }
   ],
   "source": [
    "np.std(high_var),np.std(low_var)"
   ]
  },
  {
   "cell_type": "code",
   "execution_count": 138,
   "id": "7ead7085-200f-4476-860d-cf45b9d50083",
   "metadata": {},
   "outputs": [
    {
     "data": {
      "text/plain": [
       "(666.6666666666666, 4.5)"
      ]
     },
     "execution_count": 138,
     "metadata": {},
     "output_type": "execute_result"
    }
   ],
   "source": [
    "np.mean(high_var),np.mean(low_var)"
   ]
  },
  {
   "cell_type": "code",
   "execution_count": 139,
   "id": "46ad91f0-b9ac-4d03-9877-d599af3ae1ac",
   "metadata": {},
   "outputs": [
    {
     "data": {
      "text/plain": [
       "(array([1., 1., 0., 1., 0., 0., 1., 0., 1., 1.]),\n",
       " array([ 200.,  300.,  400.,  500.,  600.,  700.,  800.,  900., 1000.,\n",
       "        1100., 1200.]),\n",
       " <BarContainer object of 10 artists>)"
      ]
     },
     "execution_count": 139,
     "metadata": {},
     "output_type": "execute_result"
    },
    {
     "data": {
      "image/png": "[encoded data removed]",
      "text/plain": [
       "<Figure size 640x480 with 1 Axes>"
      ]
     },
     "metadata": {},
     "output_type": "display_data"
    }
   ],
   "source": [
    "%matplotlib inline\n",
    "import matplotlib.pyplot as plt \n",
    "plt.hist(high_var)"
   ]
  },
  {
   "cell_type": "code",
   "execution_count": 140,
   "id": "fb7d44fd-d668-4e50-94ca-18f2afafb211",
   "metadata": {},
   "outputs": [
    {
     "data": {
      "text/plain": [
       "(array([1., 1., 1., 0., 1., 1., 0., 1., 1., 1.]),\n",
       " array([1. , 1.7, 2.4, 3.1, 3.8, 4.5, 5.2, 5.9, 6.6, 7.3, 8. ]),\n",
       " <BarContainer object of 10 artists>)"
      ]
     },
     "execution_count": 140,
     "metadata": {},
     "output_type": "execute_result"
    },
    {
     "data": {
      "image/png": "[encoded data removed]",
      "text/plain": [
       "<Figure size 640x480 with 1 Axes>"
      ]
     },
     "metadata": {},
     "output_type": "display_data"
    }
   ],
   "source": [
    "plt.hist(low_var)"
   ]
  },
  {
   "cell_type": "markdown",
   "id": "04619b3a-304f-4c52-bd86-11ba699fe696",
   "metadata": {},
   "source": [
    "## DOT PRODUCT"
   ]
  },
  {
   "cell_type": "code",
   "execution_count": 141,
   "id": "dbf09d5a-dca1-4e92-9390-dd8eb6414eed",
   "metadata": {},
   "outputs": [],
   "source": [
    "np.random.seed(0)\n",
    "mat1= np.random.randint(10,size=(3,5))\n",
    "mat2 = np.random.randint(10,size=(3,5))\n"
   ]
  },
  {
   "cell_type": "code",
   "execution_count": 118,
   "id": "b204062c-477f-4dec-84f4-5b9dba0b6f89",
   "metadata": {},
   "outputs": [
    {
     "data": {
      "text/plain": [
       "array([[5, 0, 3, 3, 7],\n",
       "       [9, 3, 5, 2, 4],\n",
       "       [7, 6, 8, 8, 1]])"
      ]
     },
     "execution_count": 118,
     "metadata": {},
     "output_type": "execute_result"
    }
   ],
   "source": [
    "mat1\n",
    "\n",
    "\n"
   ]
  },
  {
   "cell_type": "code",
   "execution_count": 119,
   "id": "aa8ac299-be57-4ebe-91a3-8941a57f971e",
   "metadata": {},
   "outputs": [],
   "source": [
    "mat2 = mat2.T\n"
   ]
  },
  {
   "cell_type": "code",
   "execution_count": 142,
   "id": "01f4f85a-a102-4134-bef6-3ce51ab45a82",
   "metadata": {},
   "outputs": [
    {
     "ename": "ValueError",
     "evalue": "shapes (3,5) and (3,5) not aligned: 5 (dim 1) != 3 (dim 0)",
     "output_type": "error",
     "traceback": [
      "\u001b[1;31m----------------------------------------------------------------\u001b[0m",
      "\u001b[1;31mValueError\u001b[0m                     Traceback (most recent call last)",
      "Cell \u001b[1;32mIn[142], line 1\u001b[0m\n\u001b[1;32m----> 1\u001b[0m m3 \u001b[38;5;241m=\u001b[39m np\u001b[38;5;241m.\u001b[39mdot(mat1,mat2)\n",
      "\u001b[1;31mValueError\u001b[0m: shapes (3,5) and (3,5) not aligned: 5 (dim 1) != 3 (dim 0)"
     ]
    }
   ],
   "source": [
    "m3 = np.dot(mat1,mat2)"
   ]
  },
  {
   "cell_type": "code",
   "execution_count": 121,
   "id": "4f567082-e327-4eaf-9162-c92ab785ed1f",
   "metadata": {},
   "outputs": [
    {
     "data": {
      "text/plain": [
       "array([[ 82, 104,  39],\n",
       "       [130, 146,  52],\n",
       "       [205, 229,  85]])"
      ]
     },
     "execution_count": 121,
     "metadata": {},
     "output_type": "execute_result"
    }
   ],
   "source": [
    "m3"
   ]
  },
  {
   "cell_type": "code",
   "execution_count": 122,
   "id": "202a4235-ba55-4e9e-b8bf-bc7b4e1be508",
   "metadata": {},
   "outputs": [
    {
     "data": {
      "text/plain": [
       "(3, 3)"
      ]
     },
     "execution_count": 122,
     "metadata": {},
     "output_type": "execute_result"
    }
   ],
   "source": [
    "m3.shape"
   ]
  },
  {
   "cell_type": "markdown",
   "id": "994f9786-ee4c-4713-b060-867c469e9d3a",
   "metadata": {},
   "source": [
    "## Nut BUtter Sales Excercise"
   ]
  },
  {
   "cell_type": "code",
   "execution_count": 123,
   "id": "51f7750d-b8fa-4518-b172-fa4dee893853",
   "metadata": {},
   "outputs": [
    {
     "data": {
      "text/plain": [
       "(5, 3)"
      ]
     },
     "execution_count": 123,
     "metadata": {},
     "output_type": "execute_result"
    }
   ],
   "source": [
    "np.random.seed(0)\n",
    "sales_amounts = np.random.randint(20,size=(5,3))\n",
    "sales_amounts.shape"
   ]
  },
  {
   "cell_type": "code",
   "execution_count": 124,
   "id": "b7942b57-42c3-4389-beaf-ebbff120d922",
   "metadata": {},
   "outputs": [],
   "source": [
    "weekly_sales = pd.DataFrame(sales_amounts,index=[\"Mon\",\"Tues\",\"Wed\",\"Thurs\",\"Fri\"],columns=[\"Almond butter\",\"Peanut butter\",\"Cashew Butter\"])"
   ]
  },
  {
   "cell_type": "code",
   "execution_count": 125,
   "id": "8ecb2081-dead-4972-97f2-18385ea06e44",
   "metadata": {},
   "outputs": [
    {
     "data": {
      "text/html": [
       "<div>\n",
       "<style scoped>\n",
       "    .dataframe tbody tr th:only-of-type {\n",
       "        vertical-align: middle;\n",
       "    }\n",
       "\n",
       "    .dataframe tbody tr th {\n",
       "        vertical-align: top;\n",
       "    }\n",
       "\n",
       "    .dataframe thead th {\n",
       "        text-align: right;\n",
       "    }\n",
       "</style>\n",
       "<table border=\"1\" class=\"dataframe\">\n",
       "  <thead>\n",
       "    <tr style=\"text-align: right;\">\n",
       "      <th></th>\n",
       "      <th>Almond butter</th>\n",
       "      <th>Peanut butter</th>\n",
       "      <th>Cashew Butter</th>\n",
       "    </tr>\n",
       "  </thead>\n",
       "  <tbody>\n",
       "    <tr>\n",
       "      <th>Mon</th>\n",
       "      <td>12</td>\n",
       "      <td>15</td>\n",
       "      <td>0</td>\n",
       "    </tr>\n",
       "    <tr>\n",
       "      <th>Tues</th>\n",
       "      <td>3</td>\n",
       "      <td>3</td>\n",
       "      <td>7</td>\n",
       "    </tr>\n",
       "    <tr>\n",
       "      <th>Wed</th>\n",
       "      <td>9</td>\n",
       "      <td>19</td>\n",
       "      <td>18</td>\n",
       "    </tr>\n",
       "    <tr>\n",
       "      <th>Thurs</th>\n",
       "      <td>4</td>\n",
       "      <td>6</td>\n",
       "      <td>12</td>\n",
       "    </tr>\n",
       "    <tr>\n",
       "      <th>Fri</th>\n",
       "      <td>1</td>\n",
       "      <td>6</td>\n",
       "      <td>7</td>\n",
       "    </tr>\n",
       "  </tbody>\n",
       "</table>\n",
       "</div>"
      ],
      "text/plain": [
       "       Almond butter  Peanut butter  Cashew Butter\n",
       "Mon               12             15              0\n",
       "Tues               3              3              7\n",
       "Wed                9             19             18\n",
       "Thurs              4              6             12\n",
       "Fri                1              6              7"
      ]
     },
     "execution_count": 125,
     "metadata": {},
     "output_type": "execute_result"
    }
   ],
   "source": [
    "weekly_sales"
   ]
  },
  {
   "cell_type": "code",
   "execution_count": 126,
   "id": "3029488e-64bc-4b74-b7ee-f81faf9bd049",
   "metadata": {},
   "outputs": [
    {
     "data": {
      "text/plain": [
       "array([10,  8, 12])"
      ]
     },
     "execution_count": 126,
     "metadata": {},
     "output_type": "execute_result"
    }
   ],
   "source": [
    "prices = np.array([10,8,12])\n",
    "prices"
   ]
  },
  {
   "cell_type": "code",
   "execution_count": 127,
   "id": "bbaa4222-d07f-455f-b5f9-e210cdd76291",
   "metadata": {},
   "outputs": [],
   "source": [
    "better_prices = pd.DataFrame(prices.reshape(1,3),index=[\"Price\"],columns=[\"Almond butter\",\"Peanut butter\",\"Cashew Butter\"])"
   ]
  },
  {
   "cell_type": "code",
   "execution_count": 128,
   "id": "2c0c912e-799d-4a01-8e89-84b187a4b55e",
   "metadata": {},
   "outputs": [
    {
     "data": {
      "text/html": [
       "<div>\n",
       "<style scoped>\n",
       "    .dataframe tbody tr th:only-of-type {\n",
       "        vertical-align: middle;\n",
       "    }\n",
       "\n",
       "    .dataframe tbody tr th {\n",
       "        vertical-align: top;\n",
       "    }\n",
       "\n",
       "    .dataframe thead th {\n",
       "        text-align: right;\n",
       "    }\n",
       "</style>\n",
       "<table border=\"1\" class=\"dataframe\">\n",
       "  <thead>\n",
       "    <tr style=\"text-align: right;\">\n",
       "      <th></th>\n",
       "      <th>Almond butter</th>\n",
       "      <th>Peanut butter</th>\n",
       "      <th>Cashew Butter</th>\n",
       "    </tr>\n",
       "  </thead>\n",
       "  <tbody>\n",
       "    <tr>\n",
       "      <th>Price</th>\n",
       "      <td>10</td>\n",
       "      <td>8</td>\n",
       "      <td>12</td>\n",
       "    </tr>\n",
       "  </tbody>\n",
       "</table>\n",
       "</div>"
      ],
      "text/plain": [
       "       Almond butter  Peanut butter  Cashew Butter\n",
       "Price             10              8             12"
      ]
     },
     "execution_count": 128,
     "metadata": {},
     "output_type": "execute_result"
    }
   ],
   "source": [
    "sales_amounts = sales_amounts.T\n",
    "better_prices\n"
   ]
  },
  {
   "cell_type": "code",
   "execution_count": 129,
   "id": "d6633e36-d810-4dc4-b41f-9a176a21c9e2",
   "metadata": {},
   "outputs": [
    {
     "data": {
      "text/plain": [
       "array([240, 138, 458, 232, 142])"
      ]
     },
     "execution_count": 129,
     "metadata": {},
     "output_type": "execute_result"
    }
   ],
   "source": [
    "total_sales = prices.dot(sales_amounts)\n",
    "total_sales"
   ]
  },
  {
   "cell_type": "code",
   "execution_count": 130,
   "id": "7bb90667-02c5-439a-8667-2128abc445a1",
   "metadata": {},
   "outputs": [],
   "source": [
    "weekly_sales[\"Total\"] = total_sales"
   ]
  },
  {
   "cell_type": "code",
   "execution_count": 143,
   "id": "6bafafd4-a6da-4a57-adb2-2a6ab2d5016d",
   "metadata": {},
   "outputs": [
    {
     "data": {
      "text/html": [
       "<div>\n",
       "<style scoped>\n",
       "    .dataframe tbody tr th:only-of-type {\n",
       "        vertical-align: middle;\n",
       "    }\n",
       "\n",
       "    .dataframe tbody tr th {\n",
       "        vertical-align: top;\n",
       "    }\n",
       "\n",
       "    .dataframe thead th {\n",
       "        text-align: right;\n",
       "    }\n",
       "</style>\n",
       "<table border=\"1\" class=\"dataframe\">\n",
       "  <thead>\n",
       "    <tr style=\"text-align: right;\">\n",
       "      <th></th>\n",
       "      <th>Almond butter</th>\n",
       "      <th>Peanut butter</th>\n",
       "      <th>Cashew Butter</th>\n",
       "      <th>Total</th>\n",
       "    </tr>\n",
       "  </thead>\n",
       "  <tbody>\n",
       "    <tr>\n",
       "      <th>Mon</th>\n",
       "      <td>12</td>\n",
       "      <td>15</td>\n",
       "      <td>0</td>\n",
       "      <td>240</td>\n",
       "    </tr>\n",
       "    <tr>\n",
       "      <th>Tues</th>\n",
       "      <td>3</td>\n",
       "      <td>3</td>\n",
       "      <td>7</td>\n",
       "      <td>138</td>\n",
       "    </tr>\n",
       "    <tr>\n",
       "      <th>Wed</th>\n",
       "      <td>9</td>\n",
       "      <td>19</td>\n",
       "      <td>18</td>\n",
       "      <td>458</td>\n",
       "    </tr>\n",
       "    <tr>\n",
       "      <th>Thurs</th>\n",
       "      <td>4</td>\n",
       "      <td>6</td>\n",
       "      <td>12</td>\n",
       "      <td>232</td>\n",
       "    </tr>\n",
       "    <tr>\n",
       "      <th>Fri</th>\n",
       "      <td>1</td>\n",
       "      <td>6</td>\n",
       "      <td>7</td>\n",
       "      <td>142</td>\n",
       "    </tr>\n",
       "  </tbody>\n",
       "</table>\n",
       "</div>"
      ],
      "text/plain": [
       "       Almond butter  Peanut butter  Cashew Butter  Total\n",
       "Mon               12             15              0    240\n",
       "Tues               3              3              7    138\n",
       "Wed                9             19             18    458\n",
       "Thurs              4              6             12    232\n",
       "Fri                1              6              7    142"
      ]
     },
     "execution_count": 143,
     "metadata": {},
     "output_type": "execute_result"
    }
   ],
   "source": [
    "weekly_sales"
   ]
  },
  {
   "cell_type": "markdown",
   "id": "9c0231d6-888f-410e-9b5d-a41796b98bd4",
   "metadata": {},
   "source": [
    "## Comparison Operators"
   ]
  },
  {
   "cell_type": "code",
   "execution_count": 145,
   "id": "02861d84-b2f5-4622-abe3-40faf35e9628",
   "metadata": {},
   "outputs": [
    {
     "data": {
      "text/plain": [
       "array([[False, False, False],\n",
       "       [False, False, False],\n",
       "       [False, False, False]])"
      ]
     },
     "execution_count": 145,
     "metadata": {},
     "output_type": "execute_result"
    }
   ],
   "source": [
    "al>m3"
   ]
  },
  {
   "cell_type": "code",
   "execution_count": 150,
   "id": "806d308e-c08b-4155-95d9-1c6d0a319fff",
   "metadata": {},
   "outputs": [
    {
     "data": {
      "text/plain": [
       "array([[ True,  True,  True],\n",
       "       [ True,  True,  True],\n",
       "       [ True,  True,  True]])"
      ]
     },
     "execution_count": 150,
     "metadata": {},
     "output_type": "execute_result"
    }
   ],
   "source": [
    "al == m3"
   ]
  },
  {
   "cell_type": "code",
   "execution_count": 151,
   "id": "b8e2f5f5-df1f-4275-a515-b51a10e066c8",
   "metadata": {},
   "outputs": [
    {
     "data": {
      "text/plain": [
       "array([[ True,  True,  True],\n",
       "       [ True,  True,  True],\n",
       "       [ True,  True,  True]])"
      ]
     },
     "execution_count": 151,
     "metadata": {},
     "output_type": "execute_result"
    }
   ],
   "source": [
    "al >= m3"
   ]
  },
  {
   "cell_type": "code",
   "execution_count": 152,
   "id": "8aa81539-9f61-4cbe-b1bb-ee1309c70d35",
   "metadata": {},
   "outputs": [
    {
     "data": {
      "text/plain": [
       "array([[False, False, False],\n",
       "       [False, False, False],\n",
       "       [False, False, False]])"
      ]
     },
     "execution_count": 152,
     "metadata": {},
     "output_type": "execute_result"
    }
   ],
   "source": [
    "al < m3"
   ]
  },
  {
   "cell_type": "markdown",
   "id": "1b3127fa-79f9-44c2-a301-74dd11b4e8d8",
   "metadata": {},
   "source": [
    "## Sorting array"
   ]
  },
  {
   "cell_type": "code",
   "execution_count": 153,
   "id": "1199de20-a167-4334-856d-2712a90ba397",
   "metadata": {},
   "outputs": [
    {
     "data": {
      "text/plain": [
       "array([[2, 3, 8, 1, 3],\n",
       "       [3, 3, 7, 0, 1],\n",
       "       [9, 9, 0, 4, 7]])"
      ]
     },
     "execution_count": 153,
     "metadata": {},
     "output_type": "execute_result"
    }
   ],
   "source": [
    "random_array = np.random.randint(10,size=(3,5))\n",
    "random_array"
   ]
  },
  {
   "cell_type": "code",
   "execution_count": 154,
   "id": "c1eea64e-ab73-4c36-85f9-1fba9075bd01",
   "metadata": {},
   "outputs": [
    {
     "data": {
      "text/plain": [
       "(3, 5)"
      ]
     },
     "execution_count": 154,
     "metadata": {},
     "output_type": "execute_result"
    }
   ],
   "source": [
    "random_array.shape"
   ]
  },
  {
   "cell_type": "code",
   "execution_count": 155,
   "id": "a1a603b6-0e22-4e71-b138-aa7fd750117b",
   "metadata": {},
   "outputs": [
    {
     "data": {
      "text/plain": [
       "array([[1, 2, 3, 3, 8],\n",
       "       [0, 1, 3, 3, 7],\n",
       "       [0, 4, 7, 9, 9]])"
      ]
     },
     "execution_count": 155,
     "metadata": {},
     "output_type": "execute_result"
    }
   ],
   "source": [
    "np.sort(random_array)"
   ]
  },
  {
   "cell_type": "code",
   "execution_count": 156,
   "id": "404066dc-728e-48d5-8230-5e650cfbdf65",
   "metadata": {},
   "outputs": [
    {
     "data": {
      "text/plain": [
       "array([[2, 0, 1],\n",
       "       [2, 0, 1],\n",
       "       [2, 0, 1]], dtype=int64)"
      ]
     },
     "execution_count": 156,
     "metadata": {},
     "output_type": "execute_result"
    }
   ],
   "source": [
    "np.argsort(al)"
   ]
  },
  {
   "cell_type": "code",
   "execution_count": 157,
   "id": "d717acbe-6314-4adb-9b01-411fe8f791ac",
   "metadata": {},
   "outputs": [
    {
     "data": {
      "text/plain": [
       "array([3, 3, 2], dtype=int64)"
      ]
     },
     "execution_count": 157,
     "metadata": {},
     "output_type": "execute_result"
    }
   ],
   "source": [
    "np.argmax(random_array,axis=0)\n"
   ]
  },
  {
   "cell_type": "code",
   "execution_count": 160,
   "id": "be59073b-3007-4d6e-9393-890cee8bc9e7",
   "metadata": {},
   "outputs": [
    {
     "data": {
      "text/plain": [
       "array([2, 2, 0], dtype=int64)"
      ]
     },
     "execution_count": 160,
     "metadata": {},
     "output_type": "execute_result"
    }
   ],
   "source": [
    "np.argmax(random_array,axis=1)"
   ]
  },
  {
   "cell_type": "markdown",
   "id": "bc26a281-b6b7-4fff-82d8-32d07d81140e",
   "metadata": {},
   "source": [
    "## Practical Example -Numpy in Action"
   ]
  },
  {
   "cell_type": "markdown",
   "id": "64e47ac2-b083-4955-8dc7-8bfcf1aa7cc8",
   "metadata": {},
   "source": [
    "<img src=\"images/panda.png\"/>"
   ]
  },
  {
   "cell_type": "code",
   "execution_count": 1,
   "id": "98a118d8-ea4e-4eba-8341-94f3753fff73",
   "metadata": {},
   "outputs": [
    {
     "name": "stdout",
     "output_type": "stream",
     "text": [
      "<class 'numpy.ndarray'>\n"
     ]
    }
   ],
   "source": [
    "from matplotlib.image import imread\n",
    "\n",
    "panda = imread(\"images/panda.png\")\n",
    "print(type(panda))"
   ]
  },
  {
   "cell_type": "code",
   "execution_count": 2,
   "id": "aa123bfc-a875-4c86-a852-0ddd47cffe02",
   "metadata": {},
   "outputs": [
    {
     "data": {
      "text/plain": [
       "array([[[0.05490196, 0.10588235, 0.06666667],\n",
       "        [0.05490196, 0.10588235, 0.06666667],\n",
       "        [0.05490196, 0.10588235, 0.06666667],\n",
       "        ...,\n",
       "        [0.16470589, 0.12941177, 0.09411765],\n",
       "        [0.16470589, 0.12941177, 0.09411765],\n",
       "        [0.16470589, 0.12941177, 0.09411765]],\n",
       "\n",
       "       [[0.05490196, 0.10588235, 0.06666667],\n",
       "        [0.05490196, 0.10588235, 0.06666667],\n",
       "        [0.05490196, 0.10588235, 0.06666667],\n",
       "        ...,\n",
       "        [0.16470589, 0.12941177, 0.09411765],\n",
       "        [0.16470589, 0.12941177, 0.09411765],\n",
       "        [0.16470589, 0.12941177, 0.09411765]],\n",
       "\n",
       "       [[0.05490196, 0.10588235, 0.06666667],\n",
       "        [0.05490196, 0.10588235, 0.06666667],\n",
       "        [0.05490196, 0.10588235, 0.06666667],\n",
       "        ...,\n",
       "        [0.16470589, 0.12941177, 0.09411765],\n",
       "        [0.16470589, 0.12941177, 0.09411765],\n",
       "        [0.16470589, 0.12941177, 0.09411765]],\n",
       "\n",
       "       ...,\n",
       "\n",
       "       [[0.13333334, 0.07450981, 0.05490196],\n",
       "        [0.12156863, 0.0627451 , 0.04313726],\n",
       "        [0.10980392, 0.05098039, 0.03137255],\n",
       "        ...,\n",
       "        [0.02745098, 0.02745098, 0.03529412],\n",
       "        [0.02745098, 0.02745098, 0.03529412],\n",
       "        [0.02745098, 0.02745098, 0.03529412]],\n",
       "\n",
       "       [[0.13333334, 0.07450981, 0.05490196],\n",
       "        [0.12156863, 0.0627451 , 0.04313726],\n",
       "        [0.12156863, 0.0627451 , 0.04313726],\n",
       "        ...,\n",
       "        [0.02352941, 0.02352941, 0.03137255],\n",
       "        [0.02352941, 0.02352941, 0.03137255],\n",
       "        [0.02352941, 0.02352941, 0.03137255]],\n",
       "\n",
       "       [[0.13333334, 0.07450981, 0.05490196],\n",
       "        [0.12156863, 0.0627451 , 0.04313726],\n",
       "        [0.12156863, 0.0627451 , 0.04313726],\n",
       "        ...,\n",
       "        [0.02352941, 0.02352941, 0.03137255],\n",
       "        [0.02352941, 0.02352941, 0.03137255],\n",
       "        [0.02352941, 0.02352941, 0.03137255]]], dtype=float32)"
      ]
     },
     "execution_count": 2,
     "metadata": {},
     "output_type": "execute_result"
    }
   ],
   "source": [
    "panda\n"
   ]
  },
  {
   "cell_type": "code",
   "execution_count": 4,
   "id": "30f9c40c-caaf-426c-9cb7-1c0832f1daf7",
   "metadata": {},
   "outputs": [
    {
     "data": {
      "text/plain": [
       "(24465000, (2330, 3500, 3), 3)"
      ]
     },
     "execution_count": 4,
     "metadata": {},
     "output_type": "execute_result"
    }
   ],
   "source": [
    "panda.size,panda.shape,panda.ndim"
   ]
  },
  {
   "cell_type": "code",
   "execution_count": 5,
   "id": "496a29e1-1016-4e06-8981-b81503f07e94",
   "metadata": {},
   "outputs": [
    {
     "data": {
      "text/plain": [
       "array([[[0.05490196, 0.10588235, 0.06666667],\n",
       "        [0.05490196, 0.10588235, 0.06666667],\n",
       "        [0.05490196, 0.10588235, 0.06666667],\n",
       "        ...,\n",
       "        [0.16470589, 0.12941177, 0.09411765],\n",
       "        [0.16470589, 0.12941177, 0.09411765],\n",
       "        [0.16470589, 0.12941177, 0.09411765]],\n",
       "\n",
       "       [[0.05490196, 0.10588235, 0.06666667],\n",
       "        [0.05490196, 0.10588235, 0.06666667],\n",
       "        [0.05490196, 0.10588235, 0.06666667],\n",
       "        ...,\n",
       "        [0.16470589, 0.12941177, 0.09411765],\n",
       "        [0.16470589, 0.12941177, 0.09411765],\n",
       "        [0.16470589, 0.12941177, 0.09411765]],\n",
       "\n",
       "       [[0.05490196, 0.10588235, 0.06666667],\n",
       "        [0.05490196, 0.10588235, 0.06666667],\n",
       "        [0.05490196, 0.10588235, 0.06666667],\n",
       "        ...,\n",
       "        [0.16470589, 0.12941177, 0.09411765],\n",
       "        [0.16470589, 0.12941177, 0.09411765],\n",
       "        [0.16470589, 0.12941177, 0.09411765]],\n",
       "\n",
       "       [[0.05490196, 0.10588235, 0.06666667],\n",
       "        [0.05490196, 0.10588235, 0.06666667],\n",
       "        [0.05490196, 0.10588235, 0.06666667],\n",
       "        ...,\n",
       "        [0.16862746, 0.13333334, 0.09803922],\n",
       "        [0.16862746, 0.13333334, 0.09803922],\n",
       "        [0.16862746, 0.13333334, 0.09803922]],\n",
       "\n",
       "       [[0.05490196, 0.10588235, 0.06666667],\n",
       "        [0.05490196, 0.10588235, 0.06666667],\n",
       "        [0.05490196, 0.10588235, 0.06666667],\n",
       "        ...,\n",
       "        [0.16862746, 0.13333334, 0.09803922],\n",
       "        [0.16862746, 0.13333334, 0.09803922],\n",
       "        [0.16862746, 0.13333334, 0.09803922]]], dtype=float32)"
      ]
     },
     "execution_count": 5,
     "metadata": {},
     "output_type": "execute_result"
    }
   ],
   "source": [
    "panda[:5]"
   ]
  },
  {
   "cell_type": "markdown",
   "id": "62980ff6-c539-4df2-af8b-02b1b9668b31",
   "metadata": {},
   "source": [
    "<img src=\"images/car-photo.png\">"
   ]
  },
  {
   "cell_type": "code",
   "execution_count": 7,
   "id": "7ca5eee9-6510-411f-be3c-0774a9162e96",
   "metadata": {},
   "outputs": [
    {
     "data": {
      "text/plain": [
       "array([[[0.5019608 , 0.50980395, 0.4862745 , 1.        ],\n",
       "        [0.3372549 , 0.34509805, 0.30588236, 1.        ],\n",
       "        [0.20392157, 0.21568628, 0.14901961, 1.        ],\n",
       "        ...,\n",
       "        [0.64705884, 0.7058824 , 0.54901963, 1.        ],\n",
       "        [0.59607846, 0.63529414, 0.45882353, 1.        ],\n",
       "        [0.44705883, 0.47058824, 0.3372549 , 1.        ]],\n",
       "\n",
       "       [[0.44313726, 0.43529412, 0.40392157, 1.        ],\n",
       "        [0.3137255 , 0.31764707, 0.27450982, 1.        ],\n",
       "        [0.2       , 0.21176471, 0.14117648, 1.        ],\n",
       "        ...,\n",
       "        [0.5058824 , 0.5372549 , 0.4117647 , 1.        ],\n",
       "        [0.49803922, 0.52156866, 0.39607844, 1.        ],\n",
       "        [0.4       , 0.42745098, 0.34117648, 1.        ]],\n",
       "\n",
       "       [[0.39607844, 0.38039216, 0.34117648, 1.        ],\n",
       "        [0.31764707, 0.3137255 , 0.27450982, 1.        ],\n",
       "        [0.28627452, 0.29411766, 0.24705882, 1.        ],\n",
       "        ...,\n",
       "        [0.44705883, 0.45882353, 0.32156864, 1.        ],\n",
       "        [0.45882353, 0.48235294, 0.3529412 , 1.        ],\n",
       "        [0.4509804 , 0.49019608, 0.38039216, 1.        ]],\n",
       "\n",
       "       ...,\n",
       "\n",
       "       [[0.47058824, 0.57254905, 0.6313726 , 1.        ],\n",
       "        [0.4392157 , 0.53333336, 0.5882353 , 1.        ],\n",
       "        [0.48235294, 0.5803922 , 0.6392157 , 1.        ],\n",
       "        ...,\n",
       "        [0.6156863 , 0.7529412 , 0.827451  , 1.        ],\n",
       "        [0.61960787, 0.7607843 , 0.83137256, 1.        ],\n",
       "        [0.5921569 , 0.73333335, 0.7921569 , 1.        ]],\n",
       "\n",
       "       [[0.4745098 , 0.5803922 , 0.6392157 , 1.        ],\n",
       "        [0.47058824, 0.58431375, 0.63529414, 1.        ],\n",
       "        [0.4117647 , 0.5019608 , 0.5529412 , 1.        ],\n",
       "        ...,\n",
       "        [0.54901963, 0.6784314 , 0.74509805, 1.        ],\n",
       "        [0.65882355, 0.8117647 , 0.8862745 , 1.        ],\n",
       "        [0.60784316, 0.74509805, 0.8117647 , 1.        ]],\n",
       "\n",
       "       [[0.4745098 , 0.57254905, 0.627451  , 1.        ],\n",
       "        [0.49411765, 0.6       , 0.65882355, 1.        ],\n",
       "        [0.49019608, 0.5921569 , 0.64705884, 1.        ],\n",
       "        ...,\n",
       "        [0.5294118 , 0.63529414, 0.69803923, 1.        ],\n",
       "        [0.5529412 , 0.67058825, 0.7372549 , 1.        ],\n",
       "        [0.6156863 , 0.73333335, 0.8       , 1.        ]]], dtype=float32)"
      ]
     },
     "execution_count": 7,
     "metadata": {},
     "output_type": "execute_result"
    }
   ],
   "source": [
    "car = imread(\"images/car-photo.png\")\n",
    "car"
   ]
  },
  {
   "cell_type": "code",
   "execution_count": 8,
   "id": "a583120d-b535-4c26-b3fd-9ab7b43cad69",
   "metadata": {},
   "outputs": [
    {
     "data": {
      "text/plain": [
       "array([[[0.5019608 , 0.50980395, 0.4862745 , 1.        ],\n",
       "        [0.3372549 , 0.34509805, 0.30588236, 1.        ],\n",
       "        [0.20392157, 0.21568628, 0.14901961, 1.        ],\n",
       "        ...,\n",
       "        [0.64705884, 0.7058824 , 0.54901963, 1.        ],\n",
       "        [0.59607846, 0.63529414, 0.45882353, 1.        ],\n",
       "        [0.44705883, 0.47058824, 0.3372549 , 1.        ]],\n",
       "\n",
       "       [[0.44313726, 0.43529412, 0.40392157, 1.        ],\n",
       "        [0.3137255 , 0.31764707, 0.27450982, 1.        ],\n",
       "        [0.2       , 0.21176471, 0.14117648, 1.        ],\n",
       "        ...,\n",
       "        [0.5058824 , 0.5372549 , 0.4117647 , 1.        ],\n",
       "        [0.49803922, 0.52156866, 0.39607844, 1.        ],\n",
       "        [0.4       , 0.42745098, 0.34117648, 1.        ]],\n",
       "\n",
       "       [[0.39607844, 0.38039216, 0.34117648, 1.        ],\n",
       "        [0.31764707, 0.3137255 , 0.27450982, 1.        ],\n",
       "        [0.28627452, 0.29411766, 0.24705882, 1.        ],\n",
       "        ...,\n",
       "        [0.44705883, 0.45882353, 0.32156864, 1.        ],\n",
       "        [0.45882353, 0.48235294, 0.3529412 , 1.        ],\n",
       "        [0.4509804 , 0.49019608, 0.38039216, 1.        ]],\n",
       "\n",
       "       [[0.40392157, 0.3882353 , 0.36078432, 1.        ],\n",
       "        [0.41960785, 0.41960785, 0.39607844, 1.        ],\n",
       "        [0.5137255 , 0.5372549 , 0.50980395, 1.        ],\n",
       "        ...,\n",
       "        [0.41568628, 0.41960785, 0.28235295, 1.        ],\n",
       "        [0.4392157 , 0.4627451 , 0.3019608 , 1.        ],\n",
       "        [0.48235294, 0.5254902 , 0.37254903, 1.        ]],\n",
       "\n",
       "       [[0.41568628, 0.40784314, 0.38431373, 1.        ],\n",
       "        [0.54901963, 0.5647059 , 0.5372549 , 1.        ],\n",
       "        [0.65882355, 0.7019608 , 0.6627451 , 1.        ],\n",
       "        ...,\n",
       "        [0.42745098, 0.41960785, 0.31764707, 1.        ],\n",
       "        [0.42352942, 0.43137255, 0.29803923, 1.        ],\n",
       "        [0.4509804 , 0.47843137, 0.32941177, 1.        ]]], dtype=float32)"
      ]
     },
     "execution_count": 8,
     "metadata": {},
     "output_type": "execute_result"
    }
   ],
   "source": [
    "car[:5]"
   ]
  },
  {
   "cell_type": "markdown",
   "id": "da0c3d4a-689d-4cf0-a9bb-e462d29ae669",
   "metadata": {},
   "source": [
    "<img src=\"images/dog-photo.png\"/>"
   ]
  },
  {
   "cell_type": "code",
   "execution_count": 11,
   "id": "2e8706a5-0953-43e8-a503-7c8c99e58f64",
   "metadata": {},
   "outputs": [
    {
     "data": {
      "text/plain": [
       "array([[[0.70980394, 0.80784315, 0.88235295, 1.        ],\n",
       "        [0.72156864, 0.8117647 , 0.8862745 , 1.        ],\n",
       "        [0.7411765 , 0.8156863 , 0.8862745 , 1.        ],\n",
       "        ...,\n",
       "        [0.49803922, 0.6862745 , 0.8392157 , 1.        ],\n",
       "        [0.49411765, 0.68235296, 0.8392157 , 1.        ],\n",
       "        [0.49411765, 0.68235296, 0.8352941 , 1.        ]],\n",
       "\n",
       "       [[0.69411767, 0.8039216 , 0.8862745 , 1.        ],\n",
       "        [0.7019608 , 0.8039216 , 0.88235295, 1.        ],\n",
       "        [0.7058824 , 0.80784315, 0.88235295, 1.        ],\n",
       "        ...,\n",
       "        [0.5019608 , 0.6862745 , 0.84705883, 1.        ],\n",
       "        [0.49411765, 0.68235296, 0.84313726, 1.        ],\n",
       "        [0.49411765, 0.68235296, 0.8392157 , 1.        ]],\n",
       "\n",
       "       [[0.6901961 , 0.8       , 0.88235295, 1.        ],\n",
       "        [0.69803923, 0.8039216 , 0.88235295, 1.        ],\n",
       "        [0.7058824 , 0.80784315, 0.88235295, 1.        ],\n",
       "        ...,\n",
       "        [0.5019608 , 0.6862745 , 0.84705883, 1.        ],\n",
       "        [0.49803922, 0.6862745 , 0.84313726, 1.        ],\n",
       "        [0.49803922, 0.6862745 , 0.84313726, 1.        ]],\n",
       "\n",
       "       [[0.7058824 , 0.8039216 , 0.8862745 , 1.        ],\n",
       "        [0.74509805, 0.81960785, 0.8862745 , 1.        ],\n",
       "        [0.7647059 , 0.83137256, 0.8901961 , 1.        ],\n",
       "        ...,\n",
       "        [0.5058824 , 0.69411767, 0.84705883, 1.        ],\n",
       "        [0.5019608 , 0.6901961 , 0.84705883, 1.        ],\n",
       "        [0.49803922, 0.6862745 , 0.84705883, 1.        ]],\n",
       "\n",
       "       [[0.7176471 , 0.80784315, 0.8862745 , 1.        ],\n",
       "        [0.7411765 , 0.81960785, 0.8862745 , 1.        ],\n",
       "        [0.77254903, 0.8352941 , 0.89411765, 1.        ],\n",
       "        ...,\n",
       "        [0.5137255 , 0.69411767, 0.84313726, 1.        ],\n",
       "        [0.5058824 , 0.69411767, 0.84313726, 1.        ],\n",
       "        [0.5019608 , 0.6901961 , 0.84705883, 1.        ]]], dtype=float32)"
      ]
     },
     "execution_count": 11,
     "metadata": {},
     "output_type": "execute_result"
    }
   ],
   "source": [
    "dog = imread(\"images/dog-photo.png\")\n",
    "dog[:5]"
   ]
  },
  {
   "cell_type": "code",
   "execution_count": null,
   "id": "f9559431-cbcf-435e-813a-69c54ea8bd43",
   "metadata": {},
   "outputs": [],
   "source": []
  }
 ],
 "metadata": {
  "kernelspec": {
   "display_name": "Python 3 (ipykernel)",
   "language": "python",
   "name": "python3"
  },
  "language_info": {
   "codemirror_mode": {
    "name": "ipython",
    "version": 3
   },
   "file_extension": ".py",
   "mimetype": "text/x-python",
   "name": "python",
   "nbconvert_exporter": "python",
   "pygments_lexer": "ipython3",
   "version": "3.12.4"
  }
 },
 "nbformat": 4,
 "nbformat_minor": 5
}
